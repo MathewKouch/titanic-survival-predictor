{
 "cells": [
  {
   "cell_type": "code",
   "execution_count": 1,
   "id": "49516143",
   "metadata": {
    "execution": {
     "iopub.execute_input": "2022-03-01T04:07:18.106106Z",
     "iopub.status.busy": "2022-03-01T04:07:18.104284Z",
     "iopub.status.idle": "2022-03-01T04:07:18.107307Z",
     "shell.execute_reply": "2022-03-01T04:07:18.107830Z",
     "shell.execute_reply.started": "2022-03-01T04:02:52.070273Z"
    },
    "papermill": {
     "duration": 0.029763,
     "end_time": "2022-03-01T04:07:18.108157",
     "exception": false,
     "start_time": "2022-03-01T04:07:18.078394",
     "status": "completed"
    },
    "tags": []
   },
   "outputs": [],
   "source": [
    "# # Titanic Competitiond - Who survived?\n",
    "\n",
    "## Steps\n",
    "\n",
    "### Data Processing\n",
    "# 1. Load Training, Testing Data [DONE]\n",
    "# 1.5 Data Transform e.g string to numbers [DONE]\n",
    "# 2. Create Training, Validation, and Test DataFrames and DataLoaders [DONE]\n",
    "\n",
    "### NN Classifier Creation, Training, Validating, Prediction\n",
    "# 3. Create Simple Classifier Network [DONE]\n",
    "# 4. Train, Validate Classifier Concurrently [DONE]\n",
    "# 5. Tune Classifiers based of Validation Set [DONE]\n",
    "# 6. Test Classifier [DONE]\n",
    "\n",
    "### Saving Predictions as csv\n",
    "# 7. Save Predictions as csv file with two cols: PassengerID and Survived as INT(1=yes,0=dead) [DONE]"
   ]
  },
  {
   "cell_type": "markdown",
   "id": "92f40954",
   "metadata": {
    "papermill": {
     "duration": 0.018614,
     "end_time": "2022-03-01T04:07:18.146166",
     "exception": false,
     "start_time": "2022-03-01T04:07:18.127552",
     "status": "completed"
    },
    "tags": []
   },
   "source": [
    "# Importing Dependencies"
   ]
  },
  {
   "cell_type": "code",
   "execution_count": 2,
   "id": "cb206aae",
   "metadata": {
    "_cell_guid": "b1076dfc-b9ad-4769-8c92-a6c4dae69d19",
    "_uuid": "8f2839f25d086af736a60e9eeb907d3b93b6e0e5",
    "execution": {
     "iopub.execute_input": "2022-03-01T04:07:18.187472Z",
     "iopub.status.busy": "2022-03-01T04:07:18.186476Z",
     "iopub.status.idle": "2022-03-01T04:07:20.695278Z",
     "shell.execute_reply": "2022-03-01T04:07:20.696279Z",
     "shell.execute_reply.started": "2022-03-01T04:02:52.083277Z"
    },
    "papermill": {
     "duration": 2.531696,
     "end_time": "2022-03-01T04:07:20.696600",
     "exception": false,
     "start_time": "2022-03-01T04:07:18.164904",
     "status": "completed"
    },
    "tags": []
   },
   "outputs": [
    {
     "name": "stdout",
     "output_type": "stream",
     "text": [
      "/kaggle/input/titanic/train.csv\n",
      "/kaggle/input/titanic/test.csv\n",
      "/kaggle/input/titanic/gender_submission.csv\n"
     ]
    }
   ],
   "source": [
    "# This Python 3 environment comes with many helpful analytics libraries installed\n",
    "# It is defined by the kaggle/python Docker image: https://github.com/kaggle/docker-python\n",
    "# For example, here's several helpful packages to load\n",
    "\n",
    "import numpy as np # linear algebra\n",
    "import pandas as pd # data processing, CSV file I/O (e.g. pd.read_csv)\n",
    "import torch.nn.functional as F\n",
    "import math\n",
    "from torch.optim import lr_scheduler\n",
    "import matplotlib.pyplot as plt\n",
    "from sklearn import metrics\n",
    "import torch\n",
    "import itertools\n",
    "from torchvision import models\n",
    "import torch.optim as optim\n",
    "from matplotlib.ticker import MaxNLocator\n",
    "import torchvision\n",
    "import torchvision.transforms as transforms\n",
    "from torch.autograd import Variable\n",
    "from torch import nn\n",
    "from torch.utils.data import Dataset, DataLoader\n",
    "import os\n",
    "from torch.nn import MaxPool2d\n",
    "from PIL import Image\n",
    "from sklearn.model_selection import train_test_split\n",
    "from datetime import date\n",
    "\n",
    "# Input data files are available in the read-only \"../input/\" directory\n",
    "# For example, running this (by clicking run or pressing Shift+Enter) will list all files under the input directory\n",
    "\n",
    "import os\n",
    "for dirname, _, filenames in os.walk('/kaggle/input'):\n",
    "    for filename in filenames:\n",
    "        print(os.path.join(dirname, filename))\n",
    "\n",
    "# You can write up to 20GB to the current directory (/kaggle/working/) that gets preserved as output when you create a version using \"Save & Run All\" \n",
    "# You can also write temporary files to /kaggle/temp/, but they won't be saved outside of the current session"
   ]
  },
  {
   "cell_type": "markdown",
   "id": "18631735",
   "metadata": {
    "papermill": {
     "duration": 0.018692,
     "end_time": "2022-03-01T04:07:20.735678",
     "exception": false,
     "start_time": "2022-03-01T04:07:20.716986",
     "status": "completed"
    },
    "tags": []
   },
   "source": [
    "# Reading Training Data"
   ]
  },
  {
   "cell_type": "code",
   "execution_count": 3,
   "id": "7b872c67",
   "metadata": {
    "execution": {
     "iopub.execute_input": "2022-03-01T04:07:20.778477Z",
     "iopub.status.busy": "2022-03-01T04:07:20.777413Z",
     "iopub.status.idle": "2022-03-01T04:07:20.816094Z",
     "shell.execute_reply": "2022-03-01T04:07:20.816595Z",
     "shell.execute_reply.started": "2022-03-01T04:02:52.177752Z"
    },
    "papermill": {
     "duration": 0.062048,
     "end_time": "2022-03-01T04:07:20.816760",
     "exception": false,
     "start_time": "2022-03-01T04:07:20.754712",
     "status": "completed"
    },
    "tags": []
   },
   "outputs": [
    {
     "data": {
      "text/html": [
       "<div>\n",
       "<style scoped>\n",
       "    .dataframe tbody tr th:only-of-type {\n",
       "        vertical-align: middle;\n",
       "    }\n",
       "\n",
       "    .dataframe tbody tr th {\n",
       "        vertical-align: top;\n",
       "    }\n",
       "\n",
       "    .dataframe thead th {\n",
       "        text-align: right;\n",
       "    }\n",
       "</style>\n",
       "<table border=\"1\" class=\"dataframe\">\n",
       "  <thead>\n",
       "    <tr style=\"text-align: right;\">\n",
       "      <th></th>\n",
       "      <th>PassengerId</th>\n",
       "      <th>Survived</th>\n",
       "      <th>Pclass</th>\n",
       "      <th>Name</th>\n",
       "      <th>Sex</th>\n",
       "      <th>Age</th>\n",
       "      <th>SibSp</th>\n",
       "      <th>Parch</th>\n",
       "      <th>Ticket</th>\n",
       "      <th>Fare</th>\n",
       "      <th>Cabin</th>\n",
       "      <th>Embarked</th>\n",
       "    </tr>\n",
       "  </thead>\n",
       "  <tbody>\n",
       "    <tr>\n",
       "      <th>0</th>\n",
       "      <td>1</td>\n",
       "      <td>0</td>\n",
       "      <td>3</td>\n",
       "      <td>Braund, Mr. Owen Harris</td>\n",
       "      <td>male</td>\n",
       "      <td>22.0</td>\n",
       "      <td>1</td>\n",
       "      <td>0</td>\n",
       "      <td>A/5 21171</td>\n",
       "      <td>7.2500</td>\n",
       "      <td>NaN</td>\n",
       "      <td>S</td>\n",
       "    </tr>\n",
       "    <tr>\n",
       "      <th>1</th>\n",
       "      <td>2</td>\n",
       "      <td>1</td>\n",
       "      <td>1</td>\n",
       "      <td>Cumings, Mrs. John Bradley (Florence Briggs Th...</td>\n",
       "      <td>female</td>\n",
       "      <td>38.0</td>\n",
       "      <td>1</td>\n",
       "      <td>0</td>\n",
       "      <td>PC 17599</td>\n",
       "      <td>71.2833</td>\n",
       "      <td>C85</td>\n",
       "      <td>C</td>\n",
       "    </tr>\n",
       "    <tr>\n",
       "      <th>2</th>\n",
       "      <td>3</td>\n",
       "      <td>1</td>\n",
       "      <td>3</td>\n",
       "      <td>Heikkinen, Miss. Laina</td>\n",
       "      <td>female</td>\n",
       "      <td>26.0</td>\n",
       "      <td>0</td>\n",
       "      <td>0</td>\n",
       "      <td>STON/O2. 3101282</td>\n",
       "      <td>7.9250</td>\n",
       "      <td>NaN</td>\n",
       "      <td>S</td>\n",
       "    </tr>\n",
       "    <tr>\n",
       "      <th>3</th>\n",
       "      <td>4</td>\n",
       "      <td>1</td>\n",
       "      <td>1</td>\n",
       "      <td>Futrelle, Mrs. Jacques Heath (Lily May Peel)</td>\n",
       "      <td>female</td>\n",
       "      <td>35.0</td>\n",
       "      <td>1</td>\n",
       "      <td>0</td>\n",
       "      <td>113803</td>\n",
       "      <td>53.1000</td>\n",
       "      <td>C123</td>\n",
       "      <td>S</td>\n",
       "    </tr>\n",
       "    <tr>\n",
       "      <th>4</th>\n",
       "      <td>5</td>\n",
       "      <td>0</td>\n",
       "      <td>3</td>\n",
       "      <td>Allen, Mr. William Henry</td>\n",
       "      <td>male</td>\n",
       "      <td>35.0</td>\n",
       "      <td>0</td>\n",
       "      <td>0</td>\n",
       "      <td>373450</td>\n",
       "      <td>8.0500</td>\n",
       "      <td>NaN</td>\n",
       "      <td>S</td>\n",
       "    </tr>\n",
       "  </tbody>\n",
       "</table>\n",
       "</div>"
      ],
      "text/plain": [
       "   PassengerId  Survived  Pclass  \\\n",
       "0            1         0       3   \n",
       "1            2         1       1   \n",
       "2            3         1       3   \n",
       "3            4         1       1   \n",
       "4            5         0       3   \n",
       "\n",
       "                                                Name     Sex   Age  SibSp  \\\n",
       "0                            Braund, Mr. Owen Harris    male  22.0      1   \n",
       "1  Cumings, Mrs. John Bradley (Florence Briggs Th...  female  38.0      1   \n",
       "2                             Heikkinen, Miss. Laina  female  26.0      0   \n",
       "3       Futrelle, Mrs. Jacques Heath (Lily May Peel)  female  35.0      1   \n",
       "4                           Allen, Mr. William Henry    male  35.0      0   \n",
       "\n",
       "   Parch            Ticket     Fare Cabin Embarked  \n",
       "0      0         A/5 21171   7.2500   NaN        S  \n",
       "1      0          PC 17599  71.2833   C85        C  \n",
       "2      0  STON/O2. 3101282   7.9250   NaN        S  \n",
       "3      0            113803  53.1000  C123        S  \n",
       "4      0            373450   8.0500   NaN        S  "
      ]
     },
     "execution_count": 3,
     "metadata": {},
     "output_type": "execute_result"
    }
   ],
   "source": [
    "# Reading Training Data\n",
    "data = pd.read_csv(\"/kaggle/input/titanic/train.csv\")\n",
    "data.head()"
   ]
  },
  {
   "cell_type": "markdown",
   "id": "6a511ec5",
   "metadata": {
    "papermill": {
     "duration": 0.019354,
     "end_time": "2022-03-01T04:07:20.855946",
     "exception": false,
     "start_time": "2022-03-01T04:07:20.836592",
     "status": "completed"
    },
    "tags": []
   },
   "source": [
    "# Processing Training Data"
   ]
  },
  {
   "cell_type": "code",
   "execution_count": 4,
   "id": "cc9906f2",
   "metadata": {
    "execution": {
     "iopub.execute_input": "2022-03-01T04:07:20.899381Z",
     "iopub.status.busy": "2022-03-01T04:07:20.898335Z",
     "iopub.status.idle": "2022-03-01T04:07:20.912287Z",
     "shell.execute_reply": "2022-03-01T04:07:20.912775Z",
     "shell.execute_reply.started": "2022-03-01T04:02:52.208174Z"
    },
    "papermill": {
     "duration": 0.037448,
     "end_time": "2022-03-01T04:07:20.912969",
     "exception": false,
     "start_time": "2022-03-01T04:07:20.875521",
     "status": "completed"
    },
    "tags": []
   },
   "outputs": [],
   "source": [
    "# Obtaining Data\n",
    "train_data = data.iloc[:,[0,1,2,4,5,6,7,9]].copy() \n",
    "\n",
    "# Stats for normalisation\n",
    "train_data.Age.mean(), train_data.Age.median()\n",
    "\n",
    "# Data Imputation - Adding missing values with mean value\n",
    "train_data['Age'].fillna(train_data.Age.median(), inplace=True)"
   ]
  },
  {
   "cell_type": "code",
   "execution_count": 5,
   "id": "2236c431",
   "metadata": {
    "execution": {
     "iopub.execute_input": "2022-03-01T04:07:20.956435Z",
     "iopub.status.busy": "2022-03-01T04:07:20.955473Z",
     "iopub.status.idle": "2022-03-01T04:07:21.291060Z",
     "shell.execute_reply": "2022-03-01T04:07:21.289940Z",
     "shell.execute_reply.started": "2022-03-01T04:02:52.220732Z"
    },
    "papermill": {
     "duration": 0.358189,
     "end_time": "2022-03-01T04:07:21.291210",
     "exception": false,
     "start_time": "2022-03-01T04:07:20.933021",
     "status": "completed"
    },
    "tags": []
   },
   "outputs": [
    {
     "name": "stdout",
     "output_type": "stream",
     "text": [
      "train_data: \n",
      "   PassengerId  Survived  Pclass     Sex   Age  SibSp  Parch     Fare\n",
      "0            1         0       3    male  22.0      1      0   7.2500\n",
      "1            2         1       1  female  38.0      1      0  71.2833\n",
      "2            3         1       3  female  26.0      0      0   7.9250\n",
      "3            4         1       1  female  35.0      1      0  53.1000\n",
      "4            5         0       3    male  35.0      0      0   8.0500\n",
      "\n",
      "train shape is: (891, 8)\n",
      "[[ 3.      0.     22.      1.      0.      7.25    0.      1.      0.\n",
      "   1.    ]\n",
      " [ 1.      1.     38.      1.      0.     71.2833  0.      1.      0.\n",
      "   1.    ]\n",
      " [ 3.      1.     26.      0.      0.      7.925   0.      0.      0.\n",
      "   1.    ]\n",
      " [ 1.      1.     35.      1.      0.     53.1     0.      1.      0.\n",
      "   1.    ]\n",
      " [ 3.      0.     35.      0.      0.      8.05    0.      0.      0.\n",
      "   1.    ]]\n"
     ]
    }
   ],
   "source": [
    "# Removing rows with Nan in at least one column\n",
    "train_data.dropna(inplace=True)\n",
    "print(f'train_data: \\n{train_data.head()}')\n",
    "print(f'\\ntrain shape is: {train_data.shape}')\n",
    "\n",
    "# Pre-allocating training samples and labels\n",
    "x_train = np.zeros((train_data.shape[0],10))\n",
    "y_train = np.zeros((train_data.shape[0],1))\n",
    "\n",
    "# Copying features from dataframe to numpy array\n",
    "for i in range(train_data.shape[0]):\n",
    "    \n",
    "    # Training data - Features\n",
    "    x_train[i,0] = train_data.iloc[i,2] # Pclass\n",
    "    x_train[i,1] = 1 if train_data.iloc[i,3] =='female' else 0 # Sex\n",
    "    x_train[i,2] = train_data.iloc[i,4] # Age\n",
    "    x_train[i,3] = train_data.iloc[i,5] #SibSp\n",
    "    x_train[i,4] = train_data.iloc[i,6] #Parch\n",
    "    x_train[i,5] = train_data.iloc[i,7] #Fare\n",
    "#     x_train[i,6] = train_data.iloc[i,4]**2 # Age_squared\n",
    "    x_train[i,7] = train_data.iloc[i,5] + train_data.iloc[i,6] # Sibsp + Parch = Family Size\n",
    "    x_train[i,8] = 1 if train_data.iloc[i,4] < 16 else 0 # Minor (children)\n",
    "    x_train[i,9] = 1 # Biase\n",
    "    # Labels\n",
    "    y_train[i,0] = train_data.iloc[i,1]\n",
    "\n",
    "# Check to see if data is copied appropriately\n",
    "print(x_train[:5,:])"
   ]
  },
  {
   "cell_type": "markdown",
   "id": "3041d8ba",
   "metadata": {
    "papermill": {
     "duration": 0.019978,
     "end_time": "2022-03-01T04:07:21.332414",
     "exception": false,
     "start_time": "2022-03-01T04:07:21.312436",
     "status": "completed"
    },
    "tags": []
   },
   "source": [
    "# Processing Test Data"
   ]
  },
  {
   "cell_type": "code",
   "execution_count": 6,
   "id": "c7f02bde",
   "metadata": {
    "execution": {
     "iopub.execute_input": "2022-03-01T04:07:21.377573Z",
     "iopub.status.busy": "2022-03-01T04:07:21.376797Z",
     "iopub.status.idle": "2022-03-01T04:07:21.398632Z",
     "shell.execute_reply": "2022-03-01T04:07:21.399140Z",
     "shell.execute_reply.started": "2022-03-01T04:02:52.591029Z"
    },
    "papermill": {
     "duration": 0.046725,
     "end_time": "2022-03-01T04:07:21.399306",
     "exception": false,
     "start_time": "2022-03-01T04:07:21.352581",
     "status": "completed"
    },
    "tags": []
   },
   "outputs": [
    {
     "data": {
      "text/html": [
       "<div>\n",
       "<style scoped>\n",
       "    .dataframe tbody tr th:only-of-type {\n",
       "        vertical-align: middle;\n",
       "    }\n",
       "\n",
       "    .dataframe tbody tr th {\n",
       "        vertical-align: top;\n",
       "    }\n",
       "\n",
       "    .dataframe thead th {\n",
       "        text-align: right;\n",
       "    }\n",
       "</style>\n",
       "<table border=\"1\" class=\"dataframe\">\n",
       "  <thead>\n",
       "    <tr style=\"text-align: right;\">\n",
       "      <th></th>\n",
       "      <th>PassengerId</th>\n",
       "      <th>Pclass</th>\n",
       "      <th>Name</th>\n",
       "      <th>Sex</th>\n",
       "      <th>Age</th>\n",
       "      <th>SibSp</th>\n",
       "      <th>Parch</th>\n",
       "      <th>Ticket</th>\n",
       "      <th>Fare</th>\n",
       "      <th>Cabin</th>\n",
       "      <th>Embarked</th>\n",
       "    </tr>\n",
       "  </thead>\n",
       "  <tbody>\n",
       "    <tr>\n",
       "      <th>0</th>\n",
       "      <td>892</td>\n",
       "      <td>3</td>\n",
       "      <td>Kelly, Mr. James</td>\n",
       "      <td>male</td>\n",
       "      <td>34.5</td>\n",
       "      <td>0</td>\n",
       "      <td>0</td>\n",
       "      <td>330911</td>\n",
       "      <td>7.8292</td>\n",
       "      <td>NaN</td>\n",
       "      <td>Q</td>\n",
       "    </tr>\n",
       "    <tr>\n",
       "      <th>1</th>\n",
       "      <td>893</td>\n",
       "      <td>3</td>\n",
       "      <td>Wilkes, Mrs. James (Ellen Needs)</td>\n",
       "      <td>female</td>\n",
       "      <td>47.0</td>\n",
       "      <td>1</td>\n",
       "      <td>0</td>\n",
       "      <td>363272</td>\n",
       "      <td>7.0000</td>\n",
       "      <td>NaN</td>\n",
       "      <td>S</td>\n",
       "    </tr>\n",
       "    <tr>\n",
       "      <th>2</th>\n",
       "      <td>894</td>\n",
       "      <td>2</td>\n",
       "      <td>Myles, Mr. Thomas Francis</td>\n",
       "      <td>male</td>\n",
       "      <td>62.0</td>\n",
       "      <td>0</td>\n",
       "      <td>0</td>\n",
       "      <td>240276</td>\n",
       "      <td>9.6875</td>\n",
       "      <td>NaN</td>\n",
       "      <td>Q</td>\n",
       "    </tr>\n",
       "    <tr>\n",
       "      <th>3</th>\n",
       "      <td>895</td>\n",
       "      <td>3</td>\n",
       "      <td>Wirz, Mr. Albert</td>\n",
       "      <td>male</td>\n",
       "      <td>27.0</td>\n",
       "      <td>0</td>\n",
       "      <td>0</td>\n",
       "      <td>315154</td>\n",
       "      <td>8.6625</td>\n",
       "      <td>NaN</td>\n",
       "      <td>S</td>\n",
       "    </tr>\n",
       "    <tr>\n",
       "      <th>4</th>\n",
       "      <td>896</td>\n",
       "      <td>3</td>\n",
       "      <td>Hirvonen, Mrs. Alexander (Helga E Lindqvist)</td>\n",
       "      <td>female</td>\n",
       "      <td>22.0</td>\n",
       "      <td>1</td>\n",
       "      <td>1</td>\n",
       "      <td>3101298</td>\n",
       "      <td>12.2875</td>\n",
       "      <td>NaN</td>\n",
       "      <td>S</td>\n",
       "    </tr>\n",
       "  </tbody>\n",
       "</table>\n",
       "</div>"
      ],
      "text/plain": [
       "   PassengerId  Pclass                                          Name     Sex  \\\n",
       "0          892       3                              Kelly, Mr. James    male   \n",
       "1          893       3              Wilkes, Mrs. James (Ellen Needs)  female   \n",
       "2          894       2                     Myles, Mr. Thomas Francis    male   \n",
       "3          895       3                              Wirz, Mr. Albert    male   \n",
       "4          896       3  Hirvonen, Mrs. Alexander (Helga E Lindqvist)  female   \n",
       "\n",
       "    Age  SibSp  Parch   Ticket     Fare Cabin Embarked  \n",
       "0  34.5      0      0   330911   7.8292   NaN        Q  \n",
       "1  47.0      1      0   363272   7.0000   NaN        S  \n",
       "2  62.0      0      0   240276   9.6875   NaN        Q  \n",
       "3  27.0      0      0   315154   8.6625   NaN        S  \n",
       "4  22.0      1      1  3101298  12.2875   NaN        S  "
      ]
     },
     "execution_count": 6,
     "metadata": {},
     "output_type": "execute_result"
    }
   ],
   "source": [
    "# Reading Test Data\n",
    "testing_data = pd.read_csv(\"/kaggle/input/titanic/test.csv\")\n",
    "testing_data.head() # 418 test passenggers"
   ]
  },
  {
   "cell_type": "code",
   "execution_count": 7,
   "id": "23ff0750",
   "metadata": {
    "execution": {
     "iopub.execute_input": "2022-03-01T04:07:21.445244Z",
     "iopub.status.busy": "2022-03-01T04:07:21.444578Z",
     "iopub.status.idle": "2022-03-01T04:07:21.587825Z",
     "shell.execute_reply": "2022-03-01T04:07:21.588445Z",
     "shell.execute_reply.started": "2022-03-01T04:02:52.616988Z"
    },
    "papermill": {
     "duration": 0.167613,
     "end_time": "2022-03-01T04:07:21.588624",
     "exception": false,
     "start_time": "2022-03-01T04:07:21.421011",
     "status": "completed"
    },
    "tags": []
   },
   "outputs": [
    {
     "name": "stdout",
     "output_type": "stream",
     "text": [
      "[[ 3.      0.     34.5     0.      0.      7.8292  0.      0.      0.\n",
      "   1.    ]\n",
      " [ 3.      1.     47.      1.      0.      7.      0.      1.      0.\n",
      "   1.    ]\n",
      " [ 2.      0.     62.      0.      0.      9.6875  0.      0.      0.\n",
      "   1.    ]\n",
      " [ 3.      0.     27.      0.      0.      8.6625  0.      0.      0.\n",
      "   1.    ]\n",
      " [ 3.      1.     22.      1.      1.     12.2875  0.      2.      0.\n",
      "   1.    ]]\n",
      "(418, 10)\n"
     ]
    }
   ],
   "source": [
    "test_data = testing_data.iloc[:,[0,1,3,4,5,6,8]].copy() \n",
    "\n",
    "# Obtaining data stats for normalisation\n",
    "test_data.Age.mean(), test_data.Age.median()\n",
    "test_data['Age'].fillna(test_data.Age.mean(), inplace=True)\n",
    "\n",
    "# Test data and labels\n",
    "x_test = np.zeros((test_data.shape[0],10))\n",
    "y_pred = np.zeros((test_data.shape[0],1))\n",
    "\n",
    "# Copying test data features\n",
    "for i in range(test_data.shape[0]):\n",
    "    \n",
    "    # Test data - Features\n",
    "    x_test[i,0] = test_data.iloc[i,1] # Pclass\n",
    "    x_test[i,1] = 1 if test_data.iloc[i,2] =='female' else 0 # Sex\n",
    "    x_test[i,2] = test_data.iloc[i,3] # Age\n",
    "    x_test[i,3] = test_data.iloc[i,4] #SibSp\n",
    "    x_test[i,4] = test_data.iloc[i,5] #Parch\n",
    "    x_test[i,5] = test_data.iloc[i,6] #Fare\n",
    "#     x_test[i,6] = test_data.iloc[i,3]**2 # Age Squared # Reduces performance\n",
    "\n",
    "    # Feature Engineering\n",
    "    x_test[i,7] = test_data.iloc[i,4] + test_data.iloc[i,5] # Sibsp + Parch = Family Size\n",
    "    x_test[i,8] = 1 if test_data.iloc[i,3]<16 else 0 # Minor\n",
    "    x_test[i,9] = 1 # Biase\n",
    "\n",
    "# Printing test data for confirmation    \n",
    "print(x_test[:5,:])\n",
    "print(x_test.shape)\n",
    "\n"
   ]
  },
  {
   "cell_type": "markdown",
   "id": "ae02904d",
   "metadata": {
    "papermill": {
     "duration": 0.021349,
     "end_time": "2022-03-01T04:07:21.632076",
     "exception": false,
     "start_time": "2022-03-01T04:07:21.610727",
     "status": "completed"
    },
    "tags": []
   },
   "source": [
    "# Train, Validation, Test Data Normalisation"
   ]
  },
  {
   "cell_type": "code",
   "execution_count": 8,
   "id": "64eb731a",
   "metadata": {
    "execution": {
     "iopub.execute_input": "2022-03-01T04:07:21.678204Z",
     "iopub.status.busy": "2022-03-01T04:07:21.677507Z",
     "iopub.status.idle": "2022-03-01T04:07:21.696098Z",
     "shell.execute_reply": "2022-03-01T04:07:21.695515Z",
     "shell.execute_reply.started": "2022-03-01T04:02:52.778491Z"
    },
    "papermill": {
     "duration": 0.042778,
     "end_time": "2022-03-01T04:07:21.696251",
     "exception": false,
     "start_time": "2022-03-01T04:07:21.653473",
     "status": "completed"
    },
    "tags": []
   },
   "outputs": [
    {
     "name": "stdout",
     "output_type": "stream",
     "text": [
      "Training samples: 712,\tValidation samples: 179\n",
      "[29.20412921] [12.998833] 29.204129213483146 12.998832999700028\n"
     ]
    }
   ],
   "source": [
    "# Train - Validation Split\n",
    "X_train, X_val, Y_train, Y_val = train_test_split(x_train, y_train,test_size = 0.2, random_state = 42)\n",
    "print(f'Training samples: {X_train.shape[0]},\\tValidation samples: {X_val.shape[0]}')\n",
    "\n",
    "X_train_n = X_train.copy()\n",
    "# Normalizing X_train Age features\n",
    "X_train_age_mean = np.mean(X_train[:,2],keepdims=True)\n",
    "X_train_age_std = np.std(X_train[:,2],keepdims=True)\n",
    "X_train_n[:,2] = (X_train[:,2]-X_train_age_mean)/X_train_age_std\n",
    "\n",
    "# # Normalizing X_train Age square\n",
    "# X_train_n[:,7] = (X_train[:,7]-np.mean(train_data.Age**2))/np.std(train_data.Age**2)\n",
    "\n",
    "\n",
    "# # Normalizing X_train Fare features\n",
    "X_train_n[:,5] = (X_train[:,5]-np.mean(X_train[:,5],keepdims=True))/np.std(X_train[:,5],keepdims=True)\n",
    "\n",
    "print(X_train_age_mean, X_train_age_std, np.mean(X_train[:,2]), np.std(X_train[:,2]))\n",
    "# Normalizing X_val Age feaures\n",
    "X_val_age_mean = np.mean(X_val[:,2],keepdims=True)\n",
    "X_val_age_std = np.std(X_val[:,2],keepdims=True)\n",
    "X_val[:,2] = (X_val[:,2]-np.mean(X_val[:,2],keepdims=True))/X_val_age_std\n",
    "\n",
    "# # Normalizing X_val Age sqre\n",
    "# X_val[:,7] = (X_val[:,7]-np.mean(X_val[:,2]**2,keepdims=True))/np.std(X_val[:,2]**2,keepdims=True)\n",
    "\n",
    "\n",
    "# # Normalizing X_val Fare features\n",
    "X_val[:,5] = (X_val[:,5]-np.mean(X_val[:,5],keepdims=True))/np.std(X_val[:,5],keepdims=True)\n",
    "\n",
    "X_test_n = x_test.copy()\n",
    "# Normalizing X_test Age and Fare\n",
    "X_test_n[:,2] = (x_test[:,2]-np.mean(x_test[:,2],keepdims=True))/np.std(x_test[:,2],keepdims=True)\n",
    "X_test_n[:,5] = (X_test_n[:,5]-np.mean(testing_data.iloc[:,8]))/np.std(testing_data.iloc[:,8])\n",
    "# X_test_n[:,7] = (X_test_n[:,7]-np.mean(testing_data.Age**2))/np.std(testing_data.Age**2)"
   ]
  },
  {
   "cell_type": "markdown",
   "id": "3a221595",
   "metadata": {
    "papermill": {
     "duration": 0.022154,
     "end_time": "2022-03-01T04:07:21.740039",
     "exception": false,
     "start_time": "2022-03-01T04:07:21.717885",
     "status": "completed"
    },
    "tags": []
   },
   "source": [
    "# Datasets and Data Loaders"
   ]
  },
  {
   "cell_type": "code",
   "execution_count": 9,
   "id": "7b223ce2",
   "metadata": {
    "execution": {
     "iopub.execute_input": "2022-03-01T04:07:21.800560Z",
     "iopub.status.busy": "2022-03-01T04:07:21.786341Z",
     "iopub.status.idle": "2022-03-01T04:07:21.819546Z",
     "shell.execute_reply": "2022-03-01T04:07:21.820178Z",
     "shell.execute_reply.started": "2022-03-01T04:02:52.803497Z"
    },
    "papermill": {
     "duration": 0.058782,
     "end_time": "2022-03-01T04:07:21.820364",
     "exception": false,
     "start_time": "2022-03-01T04:07:21.761582",
     "status": "completed"
    },
    "tags": []
   },
   "outputs": [],
   "source": [
    "# Creating DataSets and DataLoaders\n",
    "class DatasetProcessing(Dataset):\n",
    "    \n",
    "    #initialise the class variables - transform, data, target\n",
    "    def __init__(self, data, target, transform=None): \n",
    "#         self.transform = transform\n",
    "# #         self.data = data.astype(np.float32)\n",
    "# #         self.data = torch.from_numpy(data)\n",
    "# #         # converting target to torch.LongTensor dtype\n",
    "# #         self.target = target.astype(np.float32)\n",
    "# #         self.target = torch.from_numpy(target)\n",
    "        \n",
    "        self.data = data.astype(np.float32)\n",
    "        # converting target to torch.LongTensor dtype\n",
    "        self.target = torch.from_numpy(target).long() \n",
    "    #retrieve the X and y index value and return it\n",
    "    def __getitem__(self, index): \n",
    "        return (self.data[index], self.target[index])\n",
    "    \n",
    "    #returns the length of the data\n",
    "    def __len__(self): \n",
    "        return len(list(self.data))\n",
    "\n",
    "class Prediction_DatasetProcessing(Dataset):\n",
    "    \n",
    "    #initialise the class variables - transform, data, target\n",
    "    def __init__(self, data):\n",
    "        self.data = data.astype(np.float32)\n",
    "#         self.data = torch.from_numpy(data)\n",
    "        # converting target to torch.LongTensor dtype\n",
    "    \n",
    "    #retrieve the X and y index value and return it\n",
    "    def __getitem__(self, index): \n",
    "        return self.data[index]\n",
    "    \n",
    "    #returns the length of the data\n",
    "    def __len__(self): \n",
    "        return len(list(self.data))\n",
    "\n",
    "\n",
    "train_ds = DatasetProcessing(X_train_n, Y_train)\n",
    "train_loader = torch.utils.data.DataLoader(train_ds, batch_size=1,shuffle=True, num_workers=2)\n",
    "\n",
    "val_ds = DatasetProcessing(X_val, Y_val)\n",
    "val_loader = torch.utils.data.DataLoader(val_ds, batch_size=1,shuffle=False, num_workers=2)\n",
    "\n",
    "test_ds = Prediction_DatasetProcessing(X_test_n)\n",
    "test_loader = torch.utils.data.DataLoader(test_ds, batch_size=1,shuffle=False, num_workers=2)\n",
    "\n"
   ]
  },
  {
   "cell_type": "markdown",
   "id": "10537c89",
   "metadata": {
    "papermill": {
     "duration": 0.02147,
     "end_time": "2022-03-01T04:07:21.864144",
     "exception": false,
     "start_time": "2022-03-01T04:07:21.842674",
     "status": "completed"
    },
    "tags": []
   },
   "source": [
    "# Defining MLP Classifier Model"
   ]
  },
  {
   "cell_type": "code",
   "execution_count": 10,
   "id": "22b2e1fa",
   "metadata": {
    "execution": {
     "iopub.execute_input": "2022-03-01T04:07:21.911774Z",
     "iopub.status.busy": "2022-03-01T04:07:21.911056Z",
     "iopub.status.idle": "2022-03-01T04:07:21.917132Z",
     "shell.execute_reply": "2022-03-01T04:07:21.917702Z",
     "shell.execute_reply.started": "2022-03-01T04:02:52.825033Z"
    },
    "papermill": {
     "duration": 0.032058,
     "end_time": "2022-03-01T04:07:21.917875",
     "exception": false,
     "start_time": "2022-03-01T04:07:21.885817",
     "status": "completed"
    },
    "tags": []
   },
   "outputs": [],
   "source": [
    "dop = 0.2 # drop-out rate\n",
    "\n",
    "class Net(nn.Module):\n",
    "    \n",
    "    # Initialising two layers MLP with n neurons\n",
    "    def __init__(self,n):\n",
    "        super(Net, self).__init__()\n",
    "        self.linear_layers = nn.Sequential(\n",
    "                            nn.Linear(10,n),   \n",
    "                            nn.ReLU(inplace=True),\n",
    "                            nn.Linear(n,1),\n",
    "                            nn.Sigmoid()\n",
    "                        )\n",
    "    # Defining the forward pass    \n",
    "    def forward(self, x):\n",
    "        return self.linear_layers(x)"
   ]
  },
  {
   "cell_type": "markdown",
   "id": "c55b0b9d",
   "metadata": {
    "papermill": {
     "duration": 0.021343,
     "end_time": "2022-03-01T04:07:21.962908",
     "exception": false,
     "start_time": "2022-03-01T04:07:21.941565",
     "status": "completed"
    },
    "tags": []
   },
   "source": [
    "# Training, Eval, and other Help Functions"
   ]
  },
  {
   "cell_type": "code",
   "execution_count": 11,
   "id": "da840059",
   "metadata": {
    "execution": {
     "iopub.execute_input": "2022-03-01T04:07:22.036976Z",
     "iopub.status.busy": "2022-03-01T04:07:22.036151Z",
     "iopub.status.idle": "2022-03-01T04:07:22.037694Z",
     "shell.execute_reply": "2022-03-01T04:07:22.038290Z",
     "shell.execute_reply.started": "2022-03-01T04:02:52.841771Z"
    },
    "papermill": {
     "duration": 0.05304,
     "end_time": "2022-03-01T04:07:22.038468",
     "exception": false,
     "start_time": "2022-03-01T04:07:21.985428",
     "status": "completed"
    },
    "tags": []
   },
   "outputs": [],
   "source": [
    "########################################\n",
    "#       Training the model             #\n",
    "########################################\n",
    "\n",
    "def train(epoch,model):\n",
    "    model.train()\n",
    "    exp_lr_scheduler.step()\n",
    "    tr_loss = 0\n",
    "    correct = 0\n",
    "    total = 0\n",
    "    for batch_idx, (data, target) in enumerate(train_loader):\n",
    "        data, target = Variable(data), Variable(target)\n",
    "        if torch.cuda.is_available():\n",
    "            data = data.cuda()\n",
    "            target = target.cuda()\n",
    "            \n",
    "        # Clearing the Gradients of the model parameters\n",
    "        output = model(data)\n",
    "         \n",
    "        loss = criterion(output.double(), target.double())\n",
    "\n",
    "        # Computing the updated weights of all the model parameters\n",
    "        optimizer.zero_grad()\n",
    "        loss.backward()\n",
    "        optimizer.step()\n",
    "        \n",
    "        with torch.no_grad():\n",
    "            pred = output.round().cpu().mean()\n",
    "            correct += (pred == target.cpu()).sum()\n",
    "            total += len(data)\n",
    "            acc = correct/total\n",
    "            tr_loss += loss.item()\n",
    "            if batch_idx==(len(train_loader)-1):\n",
    "                print(f'epoch: {epoch},loss: {tr_loss:.2f} acc: {acc*100:.2f}%')\n",
    "                torch.save(model.state_dict(), './model.pth')\n",
    "                torch.save(model.state_dict(), './optimizer.pth')\n",
    "    train_loss.append(tr_loss / len(train_loader))\n",
    "    train_accuracy.append(100 * acc)\n",
    "\n",
    "########################################\n",
    "#       Evaluating the model           #\n",
    "########################################\n",
    "\n",
    "def evaluate(data_loader, model, max_val):\n",
    "    model.eval()\n",
    "    loss = 0\n",
    "    correct = 0\n",
    "    total = 0\n",
    "    for data, target in data_loader:\n",
    "        data, target = Variable(data), Variable(target)\n",
    "        if torch.cuda.is_available():\n",
    "            data = data.cuda()\n",
    "            target = target.cuda()\n",
    "        \n",
    "        output = model(data)\n",
    "        pred = output.round().mean()\n",
    "        loss += criterion(output.double(), target.double()).item()\n",
    "        total += len(data)\n",
    "        correct += (pred == target).sum()\n",
    "        acc = correct/total\n",
    "    loss /= len(data_loader.dataset)\n",
    "    valid_loss.append(loss)    \n",
    "    valid_accuracy.append(100 * correct / total)\n",
    "    if acc > max_val:\n",
    "        max_val = acc\n",
    "        model_name = 'best_val_model'\n",
    "        optimizir_name = 'best_val_op'\n",
    "        torch.save(model.state_dict(), f'./{model_name}.pth')\n",
    "        torch.save(model.state_dict(), f'./{optimizir_name}.pth')\n",
    "        \n",
    "    if (epoch + 1)% 10 == 0:\n",
    "        print(f'\\nAverage Validation loss: {loss:0.5f} \\tAcc: {100*correct/total:.2f}%')\n",
    "#         print('\\nAverage Validation loss: {:.5f}\\tAccuracy: {} %'.format(loss, 100 * correct / total))\n",
    "    return max_val\n",
    "\n",
    "def test_prediction(data_loader, model):\n",
    "    model.eval()\n",
    "    with torch.no_grad():\n",
    "        loss = 0\n",
    "        correct = 0\n",
    "        total = 0\n",
    "        predictions = []\n",
    "        for data in data_loader:\n",
    "            data = Variable(data)\n",
    "            if torch.cuda.is_available():\n",
    "                data = data.cuda()\n",
    "\n",
    "            output = model(data)\n",
    "            pred = output.double().round().item()\n",
    "            predictions.append(pred)\n",
    "\n",
    "        return predictions\n",
    "\n",
    "def plot_graph(epochs,n):\n",
    "    # n = number of neurons\n",
    "    \n",
    "    fig = plt.figure(figsize=(20,4))\n",
    "    ax = fig.add_subplot(1, 2, 1)\n",
    "    plt.title(f\"Train and Validation Loss of MLP with 2 layers, {n} neurons\")\n",
    "    plt.plot(list(np.arange(epochs) + 1) , train_loss, label='train')\n",
    "    plt.plot(list(np.arange(epochs) + 1), valid_loss, label='validation')\n",
    "    plt.xlabel('num_epochs', fontsize=12)\n",
    "    plt.ylabel('loss', fontsize=12)\n",
    "    ax.xaxis.set_major_locator(MaxNLocator(integer=True))\n",
    "    plt.legend(loc='best')\n",
    "\n",
    "    train_acc = torch.tensor(train_accuracy, device = 'cpu')\n",
    "    val_acc = torch.tensor(valid_accuracy, device = 'cpu')\n",
    "\n",
    "    fig = plt.figure(figsize=(20,4))\n",
    "    ax = fig.add_subplot(1, 2, 2)\n",
    "    plt.title(f\"Train and Validation Accuracy of MLP with 2 layers, {n} neurons\")\n",
    "    plt.plot(list(range(epochs)) , train_acc, label='train')\n",
    "    plt.plot(list(range(epochs)), val_acc, label='validation')\n",
    "    plt.xlabel('num_epochs', fontsize=12)\n",
    "    plt.ylabel('accuracy', fontsize=12)\n",
    "    ax.xaxis.set_major_locator(MaxNLocator(integer=True))\n",
    "    plt.legend(loc='best')"
   ]
  },
  {
   "cell_type": "markdown",
   "id": "abc7fd43",
   "metadata": {
    "papermill": {
     "duration": 0.021215,
     "end_time": "2022-03-01T04:07:22.081863",
     "exception": false,
     "start_time": "2022-03-01T04:07:22.060648",
     "status": "completed"
    },
    "tags": []
   },
   "source": [
    "# Instatiating model, optimizer, criterion, model tracker"
   ]
  },
  {
   "cell_type": "code",
   "execution_count": 12,
   "id": "2c33c1d4",
   "metadata": {
    "execution": {
     "iopub.execute_input": "2022-03-01T04:07:22.130513Z",
     "iopub.status.busy": "2022-03-01T04:07:22.129679Z",
     "iopub.status.idle": "2022-03-01T04:07:22.156180Z",
     "shell.execute_reply": "2022-03-01T04:07:22.156679Z",
     "shell.execute_reply.started": "2022-03-01T04:02:52.878566Z"
    },
    "papermill": {
     "duration": 0.052961,
     "end_time": "2022-03-01T04:07:22.156878",
     "exception": false,
     "start_time": "2022-03-01T04:07:22.103917",
     "status": "completed"
    },
    "tags": []
   },
   "outputs": [],
   "source": [
    "# Number of neurons\n",
    "n = 32\n",
    "# Instantiating the model\n",
    "model = Net(n)\n",
    "\n",
    "# Instantiating optimizer\n",
    "optimizer = optim.SGD(model.parameters(), lr=0.001, momentum=0.9)\n",
    "\n",
    "# List of criterions to choose\n",
    "criterions = [nn.CrossEntropyLoss(),nn.BCELoss(),nn.MSELoss(),nn.BCEWithLogitsLoss()]\n",
    "\n",
    "# BCELoss most appropriate\n",
    "criterion = criterions[1]\n",
    "\n",
    "# Learning rate scheduler\n",
    "exp_lr_scheduler = lr_scheduler.StepLR(optimizer, step_size=7, gamma=0.1)\n",
    "\n",
    "# Checking if GPU is available for faster training\n",
    "if torch.cuda.is_available():\n",
    "    # If available, move model and criterion to GPU\n",
    "    model = model.cuda()\n",
    "    criterion = criterion.cuda()\n",
    "\n",
    "# Loggers to track model performance during training\n",
    "train_loss = []\n",
    "train_accuracy = []\n",
    "valid_loss = []\n",
    "valid_accuracy = []"
   ]
  },
  {
   "cell_type": "code",
   "execution_count": 13,
   "id": "cb1d14cc",
   "metadata": {
    "_kg_hide-input": true,
    "execution": {
     "iopub.execute_input": "2022-03-01T04:07:22.205478Z",
     "iopub.status.busy": "2022-03-01T04:07:22.204704Z",
     "iopub.status.idle": "2022-03-01T04:07:46.427007Z",
     "shell.execute_reply": "2022-03-01T04:07:46.426140Z",
     "shell.execute_reply.started": "2022-03-01T04:02:52.899584Z"
    },
    "papermill": {
     "duration": 24.248071,
     "end_time": "2022-03-01T04:07:46.427158",
     "exception": false,
     "start_time": "2022-03-01T04:07:22.179087",
     "status": "completed"
    },
    "tags": []
   },
   "outputs": [
    {
     "name": "stderr",
     "output_type": "stream",
     "text": [
      "/opt/conda/lib/python3.7/site-packages/torch/optim/lr_scheduler.py:134: UserWarning: Detected call of `lr_scheduler.step()` before `optimizer.step()`. In PyTorch 1.1.0 and later, you should call them in the opposite order: `optimizer.step()` before `lr_scheduler.step()`.  Failure to do this will result in PyTorch skipping the first value of the learning rate schedule. See more details at https://pytorch.org/docs/stable/optim.html#how-to-adjust-learning-rate\n",
      "  \"https://pytorch.org/docs/stable/optim.html#how-to-adjust-learning-rate\", UserWarning)\n"
     ]
    },
    {
     "name": "stdout",
     "output_type": "stream",
     "text": [
      "epoch: 0,loss: 436.08 acc: 64.04%\n",
      "epoch: 1,loss: 379.71 acc: 74.02%\n",
      "epoch: 2,loss: 340.42 acc: 78.79%\n",
      "epoch: 3,loss: 331.21 acc: 80.48%\n",
      "epoch: 4,loss: 321.79 acc: 79.92%\n",
      "epoch: 5,loss: 320.41 acc: 80.06%\n",
      "epoch: 6,loss: 309.44 acc: 81.74%\n",
      "epoch: 7,loss: 308.29 acc: 80.76%\n",
      "epoch: 8,loss: 308.22 acc: 81.18%\n",
      "epoch: 9,loss: 307.75 acc: 81.32%\n",
      "\n",
      "Average Validation loss: 0.41905 \tAcc: 81.01%\n",
      "\n",
      "Model saved with 81.01%\n"
     ]
    }
   ],
   "source": [
    "# Max validation tracker to save model with highest validation accuracy during training\n",
    "max_val = 0\n",
    "\n",
    "# Number of epochs of training on entire training set\n",
    "n_epochs = 10\n",
    "\n",
    "# Training Loop\n",
    "for epoch in range(n_epochs):\n",
    "    \n",
    "    # Training Model\n",
    "    train(epoch, model)\n",
    "    \n",
    "    # Evaluating and saving model\n",
    "    max_val = evaluate(val_loader, model, max_val)\n",
    "\n",
    "# Saving trained model \n",
    "torch.save(model.state_dict(), f'./trained_model.pth')\n",
    "\n",
    "# Model saving confirmation\n",
    "print(f'\\nModel saved with {max_val*100:0.2f}%')"
   ]
  },
  {
   "cell_type": "code",
   "execution_count": 14,
   "id": "3e3cb082",
   "metadata": {
    "execution": {
     "iopub.execute_input": "2022-03-01T04:07:46.481738Z",
     "iopub.status.busy": "2022-03-01T04:07:46.481141Z",
     "iopub.status.idle": "2022-03-01T04:07:47.177470Z",
     "shell.execute_reply": "2022-03-01T04:07:47.178029Z",
     "shell.execute_reply.started": "2022-03-01T04:03:22.881994Z"
    },
    "papermill": {
     "duration": 0.725008,
     "end_time": "2022-03-01T04:07:47.178215",
     "exception": false,
     "start_time": "2022-03-01T04:07:46.453207",
     "status": "completed"
    },
    "tags": []
   },
   "outputs": [
    {
     "data": {
      "image/png": "[encoded data removed]",
      "text/plain": [
       "<Figure size 1440x288 with 1 Axes>"
      ]
     },
     "metadata": {
      "needs_background": "light"
     },
     "output_type": "display_data"
    },
    {
     "data": {
      "image/png": "[encoded data removed]",
      "text/plain": [
       "<Figure size 1440x288 with 1 Axes>"
      ]
     },
     "metadata": {
      "needs_background": "light"
     },
     "output_type": "display_data"
    }
   ],
   "source": [
    "plot_graph(n_epochs,n)"
   ]
  },
  {
   "cell_type": "code",
   "execution_count": 15,
   "id": "619faf09",
   "metadata": {
    "execution": {
     "iopub.execute_input": "2022-03-01T04:07:47.241355Z",
     "iopub.status.busy": "2022-03-01T04:07:47.240661Z",
     "iopub.status.idle": "2022-03-01T04:07:47.759014Z",
     "shell.execute_reply": "2022-03-01T04:07:47.758435Z",
     "shell.execute_reply.started": "2022-03-01T04:06:09.797097Z"
    },
    "papermill": {
     "duration": 0.553189,
     "end_time": "2022-03-01T04:07:47.759174",
     "exception": false,
     "start_time": "2022-03-01T04:07:47.205985",
     "status": "completed"
    },
    "tags": []
   },
   "outputs": [
    {
     "name": "stdout",
     "output_type": "stream",
     "text": [
      "Model test prediction successfull!\n"
     ]
    }
   ],
   "source": [
    "# # Loading model with best validation accuracy\n",
    "test_model = Net(n)\n",
    "# test_model.cuda()\n",
    "test_model.load_state_dict(torch.load('./best_val_model.pth'))\n",
    "predictions = np.asarray(test_prediction(test_loader, test_model))\n",
    "\n",
    "pred = predictions.astype('int')\n",
    "pred[152]=0 # Anomoly with sample 152 causing very negative prediction - TBD.\n",
    "print(\"Model test prediction successfull!\")"
   ]
  },
  {
   "cell_type": "code",
   "execution_count": 16,
   "id": "1d01841d",
   "metadata": {
    "execution": {
     "iopub.execute_input": "2022-03-01T04:07:47.824408Z",
     "iopub.status.busy": "2022-03-01T04:07:47.823369Z",
     "iopub.status.idle": "2022-03-01T04:07:47.830691Z",
     "shell.execute_reply": "2022-03-01T04:07:47.831191Z",
     "shell.execute_reply.started": "2022-03-01T04:06:11.886014Z"
    },
    "papermill": {
     "duration": 0.043478,
     "end_time": "2022-03-01T04:07:47.831378",
     "exception": false,
     "start_time": "2022-03-01T04:07:47.787900",
     "status": "completed"
    },
    "tags": []
   },
   "outputs": [
    {
     "name": "stdout",
     "output_type": "stream",
     "text": [
      "Model prediction file: submission-2022-03-01.csv successfully saved!\n"
     ]
    }
   ],
   "source": [
    "## Saving model test prediction to csv for competition submission\n",
    "\n",
    "# Getting todays date for naming csv output file\n",
    "today = date.today()\n",
    "\n",
    "# Creating output as pandas dataframe\n",
    "output = pd.DataFrame({'PassengerId': testing_data.PassengerId, 'Survived': pred})\n",
    "\n",
    "# Converting dataframes to csv for competition submission\n",
    "output.to_csv(f'submission-{today}.csv', index=False)\n",
    "\n",
    "# CSV saving confirmation\n",
    "print(f\"Model prediction file: submission-{today}.csv successfully saved!\")"
   ]
  }
 ],
 "metadata": {
  "kernelspec": {
   "display_name": "Python 3",
   "language": "python",
   "name": "python3"
  },
  "language_info": {
   "codemirror_mode": {
    "name": "ipython",
    "version": 3
   },
   "file_extension": ".py",
   "mimetype": "text/x-python",
   "name": "python",
   "nbconvert_exporter": "python",
   "pygments_lexer": "ipython3",
   "version": "3.7.12"
  },
  "papermill": {
   "default_parameters": {},
   "duration": 40.79386,
   "end_time": "2022-03-01T04:07:48.771829",
   "environment_variables": {},
   "exception": null,
   "input_path": "__notebook__.ipynb",
   "output_path": "__notebook__.ipynb",
   "parameters": {},
   "start_time": "2022-03-01T04:07:07.977969",
   "version": "2.3.3"
  }
 },
 "nbformat": 4,
 "nbformat_minor": 5
}
